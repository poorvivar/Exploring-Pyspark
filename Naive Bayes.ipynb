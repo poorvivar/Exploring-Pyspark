{
 "cells": [
  {
   "cell_type": "code",
   "execution_count": 8,
   "metadata": {},
   "outputs": [],
   "source": [
    "from pyspark.sql import SparkSession\n",
    "import numpy as np\n",
    "\n",
    "spark = SparkSession.builder.getOrCreate()\n",
    "sc = spark.sparkContext\n",
    "\n",
    "import pyspark\n",
    "from pyspark.ml import feature, regression, Pipeline, classification\n",
    "from pyspark.sql import functions as fn, Row\n",
    "from pyspark import sql\n",
    "import re\n",
    "import time\n",
    "\n",
    "import matplotlib.pyplot as plt\n",
    "import pandas as pd"
   ]
  },
  {
   "cell_type": "code",
   "execution_count": 19,
   "metadata": {},
   "outputs": [
    {
     "name": "stdout",
     "output_type": "stream",
     "text": [
      "+-----+---+-----------+-------+-------------+-----------+--------------+-------------------+-------------------+--------------+---------------+----------+--------------+--------+---------+-----------------+------------+-------------+--------+-------------+-------------------+-----------------+--------------------+-------------------------+-------------------------+------------------+--------------------+-----------------------+---------------------+---------------------------+-------------------------+----------------------------+---------------------------------+---------------------------------+--------------------------+----------------------------+-------------------------------+--------------------+-----+\n",
      "|MONTH|DAY|DAY_OF_WEEK|AIRLINE|FLIGHT_NUMBER|TAIL_NUMBER|ORIGIN_AIRPORT|DESTINATION_AIRPORT|SCHEDULED_DEPARTURE|DEPARTURE_TIME|DEPARTURE_DELAY|WHEELS_OFF|SCHEDULED_TIME|DISTANCE|WHEELS_ON|SCHEDULED_ARRIVAL|ARRIVAL_TIME|ARRIVAL_DELAY|DIVERTED|AIRLINE_index|FLIGHT_NUMBER_index|TAIL_NUMBER_index|ORIGIN_AIRPORT_index|DESTINATION_AIRPORT_index|SCHEDULED_DEPARTURE_index|ARRIVAL_TIME_index|SCHEDULED_TIME_index|SCHEDULED_ARRIVAL_index|AIRLINE_index_encoded|FLIGHT_NUMBER_index_encoded|TAIL_NUMBER_index_encoded|ORIGIN_AIRPORT_index_encoded|DESTINATION_AIRPORT_index_encoded|SCHEDULED_DEPARTURE_index_encoded|ARRIVAL_TIME_index_encoded|SCHEDULED_TIME_index_encoded|SCHEDULED_ARRIVAL_index_encoded|            features|label|\n",
      "+-----+---+-----------+-------+-------------+-----------+--------------+-------------------+-------------------+--------------+---------------+----------+--------------+--------+---------+-----------------+------------+-------------+--------+-------------+-------------------+-----------------+--------------------+-------------------------+-------------------------+------------------+--------------------+-----------------------+---------------------+---------------------------+-------------------------+----------------------------+---------------------------------+---------------------------------+--------------------------+----------------------------+-------------------------------+--------------------+-----+\n",
      "|    1|  1|          4|     B6|         2228|     N231JB|           MCO|                EWR|            Morning|       Morning|        On Time|   Morning|    Late Night|   Short|  Morning|          Morning|     Morning|      On Time|       0|          7.0|             2091.0|            678.0|                10.0|                     14.0|                      0.0|               1.0|                 0.0|                    1.0|       (14,[7],[1.0])|        (6335,[2091],[1.0])|       (4618,[678],[1.0])|            (319,[10],[1.0])|                 (319,[14],[1.0])|                    (5,[0],[1.0])|             (5,[1],[1.0])|               (2,[0],[1.0])|                  (5,[1],[1.0])|(11622,[7,2105,70...|  0.0|\n",
      "+-----+---+-----------+-------+-------------+-----------+--------------+-------------------+-------------------+--------------+---------------+----------+--------------+--------+---------+-----------------+------------+-------------+--------+-------------+-------------------+-----------------+--------------------+-------------------------+-------------------------+------------------+--------------------+-----------------------+---------------------+---------------------------+-------------------------+----------------------------+---------------------------------+---------------------------------+--------------------------+----------------------------+-------------------------------+--------------------+-----+\n",
      "only showing top 1 row\n",
      "\n"
     ]
    }
   ],
   "source": [
    "flights_nb_clean = spark.read.parquet('flights_transformed.parquet')\n",
    "flights_nb_clean = flights_nb_clean.withColumn('label', fn.col('DEPARTURE_DELAY_index')).drop('DEPARTURE_DELAY_index')\n",
    "flights_nb_clean.show(1)"
   ]
  },
  {
   "cell_type": "code",
   "execution_count": 20,
   "metadata": {},
   "outputs": [],
   "source": [
    "# Make a training, validation, and test split #\n",
    "training_df, validation_df, testing_df = flights_nb_clean.randomSplit([0.6, 0.3, 0.1], seed=0)"
   ]
  },
  {
   "cell_type": "code",
   "execution_count": 21,
   "metadata": {},
   "outputs": [],
   "source": [
    "nb_model = classification.NaiveBayes(smoothing=1).fit(training_df)"
   ]
  },
  {
   "cell_type": "code",
   "execution_count": 22,
   "metadata": {},
   "outputs": [],
   "source": [
    "# Transform it against the validation data #\n",
    "nb_df = nb_model.transform(validation_df).select('prediction','label').toPandas()"
   ]
  },
  {
   "cell_type": "code",
   "execution_count": 23,
   "metadata": {},
   "outputs": [
    {
     "data": {
      "text/html": [
       "<div>\n",
       "<style scoped>\n",
       "    .dataframe tbody tr th:only-of-type {\n",
       "        vertical-align: middle;\n",
       "    }\n",
       "\n",
       "    .dataframe tbody tr th {\n",
       "        vertical-align: top;\n",
       "    }\n",
       "\n",
       "    .dataframe thead th {\n",
       "        text-align: right;\n",
       "    }\n",
       "</style>\n",
       "<table border=\"1\" class=\"dataframe\">\n",
       "  <thead>\n",
       "    <tr style=\"text-align: right;\">\n",
       "      <th>label</th>\n",
       "      <th>0.0</th>\n",
       "      <th>1.0</th>\n",
       "    </tr>\n",
       "    <tr>\n",
       "      <th>prediction</th>\n",
       "      <th></th>\n",
       "      <th></th>\n",
       "    </tr>\n",
       "  </thead>\n",
       "  <tbody>\n",
       "    <tr>\n",
       "      <th>0.0</th>\n",
       "      <td>11768</td>\n",
       "      <td>5016</td>\n",
       "    </tr>\n",
       "    <tr>\n",
       "      <th>1.0</th>\n",
       "      <td>4728</td>\n",
       "      <td>4924</td>\n",
       "    </tr>\n",
       "  </tbody>\n",
       "</table>\n",
       "</div>"
      ],
      "text/plain": [
       "label         0.0   1.0\n",
       "prediction             \n",
       "0.0         11768  5016\n",
       "1.0          4728  4924"
      ]
     },
     "metadata": {},
     "output_type": "display_data"
    },
    {
     "name": "stdout",
     "output_type": "stream",
     "text": [
      "Accuracy: 63.141%\n"
     ]
    }
   ],
   "source": [
    "# Show the results #\n",
    "evaluation_nb_df = pd.concat([nb_df['prediction'],nb_df['label']], \n",
    "                          axis = 1, keys=['prediction','label'])\n",
    "crosstab_nb_df = pd.crosstab(evaluation_nb_df.prediction, evaluation_nb_df.label)\n",
    "display(crosstab_nb_df)\n",
    "print(\"Accuracy: {:,.3f}%\" .format((crosstab_nb_df[0][0] + crosstab_nb_df[1][1]) / crosstab_nb_df.values.sum() * 100))"
   ]
  },
  {
   "cell_type": "code",
   "execution_count": null,
   "metadata": {},
   "outputs": [],
   "source": []
  }
 ],
 "metadata": {
  "kernelspec": {
   "display_name": "Python 3",
   "language": "python",
   "name": "python3"
  },
  "language_info": {
   "codemirror_mode": {
    "name": "ipython",
    "version": 3
   },
   "file_extension": ".py",
   "mimetype": "text/x-python",
   "name": "python",
   "nbconvert_exporter": "python",
   "pygments_lexer": "ipython3",
   "version": "3.7.1"
  }
 },
 "nbformat": 4,
 "nbformat_minor": 2
}
